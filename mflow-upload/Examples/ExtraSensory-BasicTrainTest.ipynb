{
 "cells": [
  {
   "cell_type": "markdown",
   "metadata": {},
   "source": [
    "# Basic Train/Test Experiment on the ExtraSensory data set"
   ]
  },
  {
   "cell_type": "markdown",
   "metadata": {},
   "source": [
    "## Set up the Notebook"
   ]
  },
  {
   "cell_type": "code",
   "execution_count": 2,
   "metadata": {},
   "outputs": [],
   "source": [
    "%load_ext autoreload\n",
    "%autoreload 2\n",
    "%matplotlib inline\n",
    "\n",
    "import sys, os\n",
    "sys.path.insert(0, os.path.abspath('..'))\n",
    "os.chdir(os.path.abspath('..'))"
   ]
  },
  {
   "cell_type": "markdown",
   "metadata": {},
   "source": [
    "## Import modules"
   ]
  },
  {
   "cell_type": "code",
   "execution_count": 3,
   "metadata": {},
   "outputs": [],
   "source": [
    "from Blocks.data_loader import extrasensory_data_loader\n",
    "from Blocks.filter import MisingLabelFilter,  MisingDataColumnFilter, Take\n",
    "from Blocks.imputer import Imputer\n",
    "from Blocks.normalizer import Normalizer\n",
    "from Blocks.experimental_protocol import ExpTrainTest, ExpCV, ExpWithin\n",
    "from Blocks.results_analysis import ResultsConcat, ResultsCVSummarize, DataYieldReport\n",
    "\n",
    "from sklearn.metrics import accuracy_score, f1_score, precision_score, recall_score \n",
    "from sklearn.linear_model import LogisticRegression\n",
    "from sklearn.model_selection import GridSearchCV\n",
    "from sklearn import tree\n",
    "from sklearn.dummy import DummyClassifier\n",
    "\n",
    "import matplotlib.pyplot as plt\n",
    "\n",
    "from Workflow.workflow import workflow\n",
    "import Workflow.compute_graph\n",
    "import time\n",
    "import pandas as pd\n"
   ]
  },
  {
   "cell_type": "markdown",
   "metadata": {},
   "source": [
    "## Define the workflow\n",
    "\n",
    "This workflow performs a basic train/test experiment on the ExtraSensory data set sleeping prediction task. The model used is logistic regression with a fixed regularization hyper-parameter. \n",
    "\n",
    "The workflow includes a column filter that screens out feature dimensions that are less than 20% observed, and a missing label filter that removes instances without labels. Next, the workflow performs mean imputation followed by feature normalization. Lastly, the train/test experiment is run on the pre-processed data set and results are evaluated using four metrics (accuracy, F1, precision and recall). \n",
    "\n",
    "The workflow computation graph is then created and displayed, and the results are displayed. "
   ]
  },
  {
   "cell_type": "code",
   "execution_count": 6,
   "metadata": {
    "scrolled": false
   },
   "outputs": [
    {
     "name": "stdout",
     "output_type": "stream",
     "text": [
      "EXP-TT: LR\n",
      "Normalizer\n",
      "Imputer\n",
      "Missing Label Filter\n",
      "Missing Data Column Filter\n",
      "ES Data Loader\n",
      "[<Workflow.compute_graph.node object at 0x000001C42F0EDAC8>]\n"
     ]
    }
   ],
   "source": [
    "estimators = {\"LR\": LogisticRegression(solver=\"lbfgs\",max_iter=100)}\n",
    "\n",
    "metrics   = [accuracy_score, f1_score, precision_score, recall_score]\n",
    "df_raw    = extrasensory_data_loader(label=\"SLEEPING\");\n",
    "df_cf     = MisingDataColumnFilter(df_raw, thresh=0.2);\n",
    "df_lf     = MisingLabelFilter(df_cf);\n",
    "df_imp    = Imputer(df_lf, method=\"mean\")\n",
    "df_norm   = Normalizer(df_imp);\n",
    "results   = ExpTrainTest(df_norm, estimators, metrics=metrics);\n",
    "\n",
    "flow = workflow(results);\n",
    "print(flow.out_nodes)\n",
    "# flow.draw(); plt.show();\n",
    "# output = flow.run();\n",
    "# display(output[\"EXP-TT: LR\"][\"report\"])"
   ]
  },
  {
   "cell_type": "code",
   "execution_count": null,
   "metadata": {},
   "outputs": [],
   "source": []
  }
 ],
 "metadata": {
  "kernelspec": {
   "display_name": "Python 3",
   "language": "python",
   "name": "python3"
  },
  "language_info": {
   "codemirror_mode": {
    "name": "ipython",
    "version": 3
   },
   "file_extension": ".py",
   "mimetype": "text/x-python",
   "name": "python",
   "nbconvert_exporter": "python",
   "pygments_lexer": "ipython3",
   "version": "3.6.5"
  }
 },
 "nbformat": 4,
 "nbformat_minor": 2
}
